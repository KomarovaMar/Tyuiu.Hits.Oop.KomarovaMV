{
 "cells": [
  {
   "cell_type": "markdown",
   "metadata": {},
   "source": [
    "<h1 style=\"color:DodgerBlue\">Индивидальный проект</h1>"
   ]
  },
  {
   "cell_type": "markdown",
   "metadata": {},
   "source": [
    "<h2 style=\"color:DodgerBlue\">Название проекта:</h2>\n",
    "\n",
    "----\n",
    "\n",
    "### Вариант задания 7\n"
   ]
  },
  {
   "cell_type": "markdown",
   "metadata": {},
   "source": [
    "<h2 style=\"color:DodgerBlue\">Описание проекта:</h2>\n",
    "\n",
    "----\n",
    "\n",
    "\n",
    "Создать базовый класс BankAccount в С#, который будет представлять информацию об учетных записях в банке. На основе этого класса разработать 2-3 производных класса, демонстрирующих принципы наследования и полиморфизма. В каждом из классов должны быть реализованы новые атрибуты и методы, а также переопределены некоторые методы базового класса для демонстрации полиморфизма.\n",
    "Требования к базовому классу BankAccount:\n",
    ". Атрибуты: Номер счета (AccountNumber), Баланс (Вalance), Тип счета (AccountType).\n",
    "Методы:\n",
    "o Getlnfo(): метод для получения информации о счете в виде строки. o Deposit(decimal amount): метод для внесения денег на счет. o Wlithdraw(decimal amount): метод для снятия денег со счета.\n",
    "Требования к производным классам:\n",
    "1. Сберегательный счет (SavingsAccount); Должен содержать дополнительные атрибуты, такие как Процентная ставка (InterestRate). Метод Deposit() должен быть переопределен для добавления процентов к сумме вклада при внесении денег на счет.\n",
    "2. Текущий счет (CheckingAccount): Должен содержать дополнительные атрибуты, такие каку Лимит овердрафта (Overdraflimit) Метод Withdraw() должен быть переопределен для проверки и применения лимита овердрафта при снятии денег со счета\n",
    "\n"
   ]
  },
  {
   "cell_type": "markdown",
   "metadata": {},
   "source": [
    "<h2 style=\"color:DodgerBlue\">Реализация:</h2>\n",
    "\n",
    "----"
   ]
  },
  {
   "cell_type": "code",
   "execution_count": null,
   "metadata": {
    "dotnet_interactive": {
     "language": "csharp"
    },
    "polyglot_notebook": {
     "kernelName": "csharp"
    }
   },
   "outputs": [
    {
     "name": "stdout",
     "output_type": "stream",
     "text": [
      "Снято: 1500 руб. Новый баланс: -500 руб.\n",
      "Использован овердрафт: 500 руб.\n",
      "Номер счета: 12345, Баланс: 1000 руб, Тип: Сберегательный., Процентная ставка: 5%\n"
     ]
    }
   ],
   "source": [
    "public class BankAccount\n",
    "{\n",
    "    public string AccountNumber;\n",
    "    public decimal Balance;\n",
    "    public string AccountType;\n",
    "\n",
    "    public virtual string GetInfo()\n",
    "    {\n",
    "        return $\"Номер счета: {AccountNumber}, Баланс: {Balance} руб, Тип: {AccountType}.\";\n",
    "    }\n",
    "\n",
    "    public virtual void Deposit(decimal amount)\n",
    "    {\n",
    "        if (amount > 0)\n",
    "        {\n",
    "            Balance += amount;\n",
    "            Console.WriteLine($\"Новый баланс: {Balance} руб.\");\n",
    "        }\n",
    "        else\n",
    "        {\n",
    "            Console.WriteLine(\"Ошибка: Сумма должна быть положительной\");\n",
    "        }\n",
    "    }\n",
    "\n",
    "    public virtual void Withdraw(decimal amount)\n",
    "    {\n",
    "        if (amount > 0 && amount <= Balance)\n",
    "        {\n",
    "            Balance -= amount;\n",
    "            Console.WriteLine($\"Новый баланс: {Balance} руб.\");\n",
    "        }\n",
    "        else\n",
    "        {\n",
    "            Console.WriteLine(\"Ошибка: Недостаточно средств или вы пытаетесь снять отрицательну сумма\");\n",
    "        }\n",
    "    }\n",
    "}\n",
    "\n",
    "public class SavingsAccount : BankAccount\n",
    "{\n",
    "    public decimal InterestRate;\n",
    "\n",
    "    public override string GetInfo()\n",
    "    {\n",
    "        return base.GetInfo() + $\", Процентная ставка: {InterestRate}%\";\n",
    "    }\n",
    "\n",
    "    public override void Deposit(decimal amount)\n",
    "    {\n",
    "        if (amount > 0)\n",
    "        {\n",
    "            decimal interest = amount * (InterestRate / 100);\n",
    "            Balance += amount + interest;\n",
    "            Console.WriteLine($\"Внесено: {amount} руб. Начислено процентов: {interest} руб. Новый баланс: {Balance} руб.\");\n",
    "        }\n",
    "        else\n",
    "        {\n",
    "            Console.WriteLine(\"Сумма должна быть положительной\");\n",
    "        }\n",
    "    }\n",
    "}\n",
    "\n",
    "public class CheckingAccount : BankAccount\n",
    "{\n",
    "    public decimal OverdraftLimit;\n",
    "\n",
    "    public override void Withdraw(decimal amount)\n",
    "    {\n",
    "        if (amount > 0)\n",
    "        {\n",
    "            decimal availableBalance = Balance + OverdraftLimit;\n",
    "            if (amount <= availableBalance)\n",
    "            {\n",
    "                Balance -= amount;\n",
    "                Console.WriteLine($\"Снято: {amount} руб. Новый баланс: {Balance} руб.\");\n",
    "                if (Balance < 0)\n",
    "                {\n",
    "                    Console.WriteLine($\"Использован овердрафт: {-Balance} руб.\");\n",
    "                }\n",
    "            }\n",
    "            else\n",
    "            {\n",
    "                Console.WriteLine(\"Ошибка: Превышен лимит овердрафта\");\n",
    "            }\n",
    "        }\n",
    "        else\n",
    "        {\n",
    "            Console.WriteLine(\"Cумма должна быть положительнойю\");\n",
    "        }\n",
    "    }\n",
    "}\n"
   ]
  }
 ],
 "metadata": {
  "kernelspec": {
   "display_name": ".NET (C#)",
   "language": "C#",
   "name": ".net-csharp"
  },
  "polyglot_notebook": {
   "kernelInfo": {
    "defaultKernelName": "csharp",
    "items": [
     {
      "aliases": [],
      "languageName": "csharp",
      "name": "csharp"
     }
    ]
   }
  }
 },
 "nbformat": 4,
 "nbformat_minor": 2
}
